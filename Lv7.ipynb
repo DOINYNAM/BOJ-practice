{
 "cells": [
  {
   "cell_type": "markdown",
   "metadata": {},
   "source": [
    "# 7 단계 : 기본 수학 1"
   ]
  },
  {
   "cell_type": "code",
   "execution_count": 24,
   "metadata": {},
   "outputs": [
    {
     "name": "stdout",
     "output_type": "stream",
     "text": [
      "11\n"
     ]
    }
   ],
   "source": [
    "# 1712 : 손익분기점\n",
    "\n",
    "A,B,C = map(int, input().split())\n",
    "\n",
    "if B >= C :\n",
    "    print(-1)\n",
    "else:\n",
    "    print(A//(C-B)+1)"
   ]
  },
  {
   "cell_type": "code",
   "execution_count": null,
   "metadata": {},
   "outputs": [],
   "source": [
    "# 2292 : 벌집\n",
    "\n",
    "N = int(input())\n",
    "\n",
    "X = 1\n",
    "cnt = 1\n",
    "if N == 1:\n",
    "    print(cnt)\n",
    "else:\n",
    "    while True:\n",
    "        X += 6*cnt\n",
    "        cnt += 1\n",
    "        if X >= n:\n",
    "            print(cnt)\n",
    "            break"
   ]
  },
  {
   "cell_type": "code",
   "execution_count": null,
   "metadata": {},
   "outputs": [],
   "source": [
    "# 2292 : 벌집 ver2\n",
    "\n",
    "n = int(input())\n",
    "room = 1\n",
    "cnt = 1\n",
    " \n",
    "while n > room:\n",
    "    room = room + (6 * cnt)\n",
    "    cnt += 1\n",
    "print(cnt)"
   ]
  }
 ],
 "metadata": {
  "interpreter": {
   "hash": "0517020e38bb3c4d1f31f8e97d469d22ea5a42d2f2322451ff64cd3bc2a72547"
  },
  "kernelspec": {
   "display_name": "Python 3.8.13 ('boj')",
   "language": "python",
   "name": "python3"
  },
  "language_info": {
   "codemirror_mode": {
    "name": "ipython",
    "version": 3
   },
   "file_extension": ".py",
   "mimetype": "text/x-python",
   "name": "python",
   "nbconvert_exporter": "python",
   "pygments_lexer": "ipython3",
   "version": "3.8.13"
  },
  "orig_nbformat": 4
 },
 "nbformat": 4,
 "nbformat_minor": 2
}
