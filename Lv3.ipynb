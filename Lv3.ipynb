{
 "cells": [
  {
   "cell_type": "markdown",
   "metadata": {},
   "source": [
    "# 3 단계 : for문"
   ]
  },
  {
   "cell_type": "code",
   "execution_count": 3,
   "metadata": {},
   "outputs": [
    {
     "name": "stdout",
     "output_type": "stream",
     "text": [
      "11 * 2 = 22\n",
      "11 * 3 = 33\n",
      "11 * 4 = 44\n",
      "11 * 5 = 55\n",
      "11 * 6 = 66\n",
      "11 * 7 = 77\n",
      "11 * 8 = 88\n",
      "11 * 9 = 99\n",
      "11 * 10 = 110\n",
      "11 * 11 = 121\n"
     ]
    }
   ],
   "source": [
    "# 2739 : 구구단\n",
    "\n",
    "n = int(input()) # 연산을 위해서는 숫자만 가능하기 때문에 숫자로 인코딩\n",
    "\n",
    "for i in range(1,10):  # 1~9\n",
    "    print(n, '*', i, '=', n*i) # 총 9줄이 출력될 예정\n"
   ]
  },
  {
   "cell_type": "markdown",
   "metadata": {},
   "source": [
    "< 2739 : 구구단 (조건 정리) >\n",
    "\n",
    "1<=n<=9 -> 1에서 9단까지만 만들겠다.\n",
    "\n",
    "코딩 : 범위 -> 첫 번째 숫자~ 마지막 직전 숫자\n",
    "\n",
    "반복문(for문) :  우리가 만들어놓은 공식에 자동으로 우리가 원하는 숫자범위를 입력시켜서 출력시켜줌.\n",
    "\n",
    "1 -> 숫자\n",
    "'1' -> 문자"
   ]
  },
  {
   "cell_type": "code",
   "execution_count": 1,
   "metadata": {},
   "outputs": [
    {
     "name": "stdout",
     "output_type": "stream",
     "text": [
      "2\n",
      "5\n",
      "7\n",
      "17\n",
      "7\n"
     ]
    }
   ],
   "source": [
    "# 10950 : A+B-3\n",
    "\n",
    "n = int(input())  # 입력 케이스 개수 t를 입력받음\n",
    "\n",
    "for _ in range(n):  # t 만큼 반복\n",
    "    a, b = map(int, input().split())\n",
    "    print(a+b)"
   ]
  },
  {
   "cell_type": "markdown",
   "metadata": {},
   "source": [
    "< 10950 : A+B-3 (조건 정리) >\n",
    "\n",
    "1. 우선, 제시될 A,B 경우의 수를 t에 정의 함\n",
    "2. 제시된 t번의 연산을 for문을 통하여 반복 후, 출력"
   ]
  },
  {
   "cell_type": "code",
   "execution_count": 3,
   "metadata": {},
   "outputs": [
    {
     "name": "stdout",
     "output_type": "stream",
     "text": [
      "6\n"
     ]
    }
   ],
   "source": [
    "# 8393 : 합\n",
    "\n",
    "n = int(input())\n",
    "sum = 0\n",
    "\n",
    "for i in range(n+1):\n",
    "    sum += i\n",
    "print(sum)"
   ]
  },
  {
   "cell_type": "code",
   "execution_count": 1,
   "metadata": {},
   "outputs": [],
   "source": [
    "# 15552 : 빠른 A+B\n",
    "# sys.stdin.readline()는 주피터 노트북에서 실행 x\n",
    "\n",
    "import sys\n",
    "n = int(input())  # 입력 케이스 개수 n를 입력받음\n",
    "\n",
    "for _ in range(n):  # n 만큼 반복\n",
    "    a, b = map(int, sys.stdin.readline().split())\n",
    "    print(a+b)"
   ]
  },
  {
   "cell_type": "code",
   "execution_count": 1,
   "metadata": {},
   "outputs": [
    {
     "name": "stdout",
     "output_type": "stream",
     "text": [
      "1\n",
      "2\n"
     ]
    }
   ],
   "source": [
    "# 2741 : N 찍기 \n",
    "\n",
    "n = int(input())\n",
    "\n",
    "for i in range(1, n+1):\n",
    "    print(i)"
   ]
  },
  {
   "cell_type": "code",
   "execution_count": 3,
   "metadata": {},
   "outputs": [
    {
     "name": "stdout",
     "output_type": "stream",
     "text": [
      "1\n",
      "2\n",
      "3\n",
      "4\n",
      "5\n",
      "6\n",
      "7\n",
      "8\n",
      "9\n",
      "10\n",
      "11\n",
      "12\n"
     ]
    }
   ],
   "source": [
    "# 2741 : N 찍기 ver2\n",
    "# join() 함수: 문자열 String 합치기\n",
    "\n",
    "n = range(1,int(input())+1)\n",
    "print('\\n'.join(map(str,n)))"
   ]
  },
  {
   "cell_type": "code",
   "execution_count": 1,
   "metadata": {},
   "outputs": [
    {
     "name": "stdout",
     "output_type": "stream",
     "text": [
      "5\n",
      "4\n",
      "3\n",
      "2\n",
      "1\n"
     ]
    }
   ],
   "source": [
    "# 2742 : 기찍 N\n",
    "\n",
    "n = int(input())\n",
    "\n",
    "for i in range(n, 0, -1):\n",
    "    print(i)"
   ]
  },
  {
   "cell_type": "code",
   "execution_count": 3,
   "metadata": {},
   "outputs": [
    {
     "name": "stdout",
     "output_type": "stream",
     "text": [
      "5\n",
      "4\n",
      "3\n",
      "2\n",
      "1\n"
     ]
    }
   ],
   "source": [
    "# 2742 : 기찍 N ver2\n",
    "# range는 무조건 마지막 요소는 n-1까지 출력\n",
    "\n",
    "n = int(input())\n",
    "\n",
    "for i in reversed(range(n)):\n",
    "    print(i+1)"
   ]
  },
  {
   "cell_type": "code",
   "execution_count": null,
   "metadata": {},
   "outputs": [],
   "source": [
    "# 2742 : 기찍 N ver3\n",
    "\n",
    "n=int(input())\n",
    "print(\"\\n\".join(map(str, range(n, 0, -1))))"
   ]
  },
  {
   "cell_type": "code",
   "execution_count": 12,
   "metadata": {},
   "outputs": [
    {
     "name": "stdout",
     "output_type": "stream",
     "text": [
      "5\n",
      "4\n",
      "3\n",
      "2\n",
      "1\n"
     ]
    }
   ],
   "source": [
    "# 2742 : 기찍 N ver4\n",
    "\n",
    "n=int(input())\n",
    "print(\"\\n\".join(map(str, reversed(range(1, n+1)))))"
   ]
  },
  {
   "cell_type": "code",
   "execution_count": 21,
   "metadata": {},
   "outputs": [
    {
     "name": "stdout",
     "output_type": "stream",
     "text": [
      "Case #1: 2\n",
      "Case #2: 4\n"
     ]
    }
   ],
   "source": [
    "# 11021 : A+B-7\n",
    "\n",
    "n= int(input())\n",
    "\n",
    "for i in range(1, n+1):\n",
    "    a, b = map(int, input().split())\n",
    "    print(f\"Case #{i}: {a+b}\")\n"
   ]
  },
  {
   "cell_type": "code",
   "execution_count": 3,
   "metadata": {},
   "outputs": [
    {
     "name": "stdout",
     "output_type": "stream",
     "text": [
      "Case #1:  1 + 1 = 2\n"
     ]
    }
   ],
   "source": [
    "# 11022 : A+B-8\n",
    "\n",
    "n= int(input())\n",
    "\n",
    "for i in range(1, n+1):\n",
    "    a, b = map(int, input().split())\n",
    "    print(f\"Case #{i}: {a} + {b} = {a+b}\")"
   ]
  },
  {
   "cell_type": "code",
   "execution_count": null,
   "metadata": {},
   "outputs": [],
   "source": [
    "# 11022 : A+B-8 ver2\n",
    "# enumerate -> 인덱스와 원소 출력 함수\n",
    "\n",
    "import sys\n",
    "\n",
    "input()\n",
    "for i,line in enumerate(sys.stdin.readlines()):\n",
    "    A,B=map(int,line.split())\n",
    "    print(f\"Case #{i+1}: {A} + {B} = {A+B}\")"
   ]
  },
  {
   "cell_type": "code",
   "execution_count": 1,
   "metadata": {},
   "outputs": [
    {
     "name": "stdout",
     "output_type": "stream",
     "text": [
      "*\n",
      "**\n",
      "***\n",
      "****\n",
      "*****\n"
     ]
    }
   ],
   "source": [
    "# 2438 : 별 찍기 -1\n",
    "\n",
    "n= int(input())\n",
    "\n",
    "for i in range(1, n+1):\n",
    "    print(i*'*')"
   ]
  },
  {
   "cell_type": "code",
   "execution_count": null,
   "metadata": {},
   "outputs": [],
   "source": [
    "# 2438 : 별 찍기 -1 ver2\n",
    "\n",
    "for i in range(1,int(input())+1): print('*'*i)"
   ]
  },
  {
   "cell_type": "code",
   "execution_count": 7,
   "metadata": {},
   "outputs": [
    {
     "name": "stdout",
     "output_type": "stream",
     "text": [
      "    *\n",
      "   **\n",
      "  ***\n",
      " ****\n",
      "*****\n"
     ]
    }
   ],
   "source": [
    "# 2439 : 별 찍기 -2\n",
    "n= int(input())\n",
    "\n",
    "for i in range(1,n+1): print(' '*(n-i)+'*'*i)\n",
    "\n",
    "# n-i 만큼 공백 출력"
   ]
  }
 ],
 "metadata": {
  "interpreter": {
   "hash": "15563fd1b622306a2efd34f87982eb516b6370747374c1a0af7fa82521449461"
  },
  "kernelspec": {
   "display_name": "Python 3.8.8 ('base')",
   "language": "python",
   "name": "python3"
  },
  "language_info": {
   "codemirror_mode": {
    "name": "ipython",
    "version": 3
   },
   "file_extension": ".py",
   "mimetype": "text/x-python",
   "name": "python",
   "nbconvert_exporter": "python",
   "pygments_lexer": "ipython3",
   "version": "3.9.7"
  },
  "orig_nbformat": 4
 },
 "nbformat": 4,
 "nbformat_minor": 2
}
