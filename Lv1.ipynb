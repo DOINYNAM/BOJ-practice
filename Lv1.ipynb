{
 "cells": [
  {
   "cell_type": "markdown",
   "metadata": {},
   "source": [
    "# 1 단계 : 입출력과 사칙연산"
   ]
  },
  {
   "cell_type": "markdown",
   "metadata": {},
   "source": [
    "* 10171 : 고양이\n",
    "* 10172 : 개\n",
    "\n",
    "키워드 : 이스케이프 문자\n",
    "REF : https://ooyoung.tistory.com/10"
   ]
  },
  {
   "cell_type": "code",
   "execution_count": 1,
   "metadata": {},
   "outputs": [
    {
     "name": "stdout",
     "output_type": "stream",
     "text": [
      "\\    /\\\n",
      " )  ( ')\n",
      "(  /  )\n",
      " \\(__)|\n"
     ]
    }
   ],
   "source": [
    "# 10171 : 고양이\n",
    "\n",
    "print(\"\\    /\\\\\")  # 이스케이프 문자 부분 - \\\\\n",
    "print(\" )  ( ')\")\n",
    "print(\"(  /  )\")\n",
    "print(\" \\(__)|\")"
   ]
  },
  {
   "cell_type": "code",
   "execution_count": 5,
   "metadata": {},
   "outputs": [
    {
     "name": "stdout",
     "output_type": "stream",
     "text": [
      "|\\_/|\n",
      "|q p|   /}\n",
      "( 0 )\"\"\"\\\n",
      "|\"^\"`    |\n",
      "||_/=\\\\__|\n"
     ]
    }
   ],
   "source": [
    "# 10172 : 개\n",
    "\n",
    "print(\"|\\_/|\")\n",
    "print(\"|q p|   /}\")\n",
    "print('( 0 )\"\"\"\\\\') # 이스케이프 문자 부분 - \\\\\n",
    "print('|\"^\"`    |')\n",
    "print('||_/=\\\\\\__|') # 이스케이프 문자 부분 - \\\\"
   ]
  },
  {
   "cell_type": "code",
   "execution_count": 8,
   "metadata": {},
   "outputs": [
    {
     "name": "stdout",
     "output_type": "stream",
     "text": [
      "2\n"
     ]
    }
   ],
   "source": [
    "# 10998 : AXB\n",
    "\n",
    "A, B= map(int, input().split())\n",
    "print(A*B)"
   ]
  },
  {
   "cell_type": "code",
   "execution_count": 2,
   "metadata": {},
   "outputs": [
    {
     "name": "stdout",
     "output_type": "stream",
     "text": [
      "0.3333333333333333\n"
     ]
    }
   ],
   "source": [
    "# 1008 : A/B\n",
    "\n",
    "A, B= map(int, input().split())\n",
    "print(A/B)\n"
   ]
  },
  {
   "cell_type": "code",
   "execution_count": 4,
   "metadata": {},
   "outputs": [
    {
     "name": "stdout",
     "output_type": "stream",
     "text": [
      "10\n",
      "4\n",
      "21\n",
      "2\n",
      "1\n"
     ]
    }
   ],
   "source": [
    "# 10869 : A+B, A-B, A*B, A/B(몫), A%B(나머지)를 출력하는 프로그램\n",
    "\n",
    "A, B = map(int, input().split())\n",
    "print(A+B)\n",
    "print(A-B)\n",
    "print(A*B)\n",
    "print(A//B) # 몫만 출력\n",
    "print(A%B) # 나머지만 출력\n"
   ]
  },
  {
   "cell_type": "code",
   "execution_count": 1,
   "metadata": {},
   "outputs": [
    {
     "name": "stdout",
     "output_type": "stream",
     "text": [
      "Jjoonas??!\n"
     ]
    }
   ],
   "source": [
    "# 10926 : ??!\n",
    "\n",
    "A= input()\n",
    "print(A+'??!')"
   ]
  },
  {
   "cell_type": "code",
   "execution_count": 5,
   "metadata": {},
   "outputs": [
    {
     "name": "stdout",
     "output_type": "stream",
     "text": [
      "1998\n"
     ]
    }
   ],
   "source": [
    "# 18108 : 1998년생인 내가 태국에서는 2541년생?!\n",
    "\n",
    "A= int(input())-543\n",
    "print(A)"
   ]
  },
  {
   "cell_type": "code",
   "execution_count": 8,
   "metadata": {},
   "outputs": [
    {
     "name": "stdout",
     "output_type": "stream",
     "text": [
      "1\n",
      "1\n",
      "0\n",
      "0\n"
     ]
    }
   ],
   "source": [
    "# 10430 : 나머지\n",
    "\n",
    "A, B, C = map(int, input().split())\n",
    "print((A+B) % C)\n",
    "print(((A % C) + (B % C)) % C)\n",
    "print((A*B) % C)\n",
    "print(((A % C) * (B % C)) % C)\n"
   ]
  },
  {
   "cell_type": "code",
   "execution_count": 3,
   "metadata": {},
   "outputs": [
    {
     "name": "stdout",
     "output_type": "stream",
     "text": [
      "2360\n",
      "3776\n",
      "1416\n",
      "181720\n"
     ]
    }
   ],
   "source": [
    "# 2588 : 곱셈\n",
    "a = int(input())\n",
    "b = input()\n",
    "\n",
    "a1 = a*int(b[2])\n",
    "a2 = a*int(b[1])\n",
    "a3 = a*int(b[0])\n",
    "a4 = a*int(b)\n",
    "\n",
    "print(a1, a2, a3, a4, sep= '\\n') # \\n 줄 바꾸면서 프린트\n"
   ]
  }
 ],
 "metadata": {
  "interpreter": {
   "hash": "15563fd1b622306a2efd34f87982eb516b6370747374c1a0af7fa82521449461"
  },
  "kernelspec": {
   "display_name": "Python 3.8.8 64-bit ('base': conda)",
   "language": "python",
   "name": "python3"
  },
  "language_info": {
   "codemirror_mode": {
    "name": "ipython",
    "version": 3
   },
   "file_extension": ".py",
   "mimetype": "text/x-python",
   "name": "python",
   "nbconvert_exporter": "python",
   "pygments_lexer": "ipython3",
   "version": "3.8.8"
  },
  "orig_nbformat": 4
 },
 "nbformat": 4,
 "nbformat_minor": 2
}
