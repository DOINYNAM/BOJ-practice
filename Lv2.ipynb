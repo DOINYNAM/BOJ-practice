{
 "cells": [
  {
   "cell_type": "markdown",
   "metadata": {},
   "source": [
    "# 2 단계 : if문"
   ]
  },
  {
   "cell_type": "code",
   "execution_count": 7,
   "metadata": {},
   "outputs": [
    {
     "ename": "ValueError",
     "evalue": "not enough values to unpack (expected 2, got 0)",
     "output_type": "error",
     "traceback": [
      "\u001b[1;31m---------------------------------------------------------------------------\u001b[0m",
      "\u001b[1;31mValueError\u001b[0m                                Traceback (most recent call last)",
      "\u001b[1;32m~\\AppData\\Local\\Temp/ipykernel_23308/795107602.py\u001b[0m in \u001b[0;36m<module>\u001b[1;34m\u001b[0m\n\u001b[0;32m      1\u001b[0m \u001b[1;31m# 1330 : 두 수 비교하기\u001b[0m\u001b[1;33m\u001b[0m\u001b[1;33m\u001b[0m\u001b[1;33m\u001b[0m\u001b[0m\n\u001b[0;32m      2\u001b[0m \u001b[1;33m\u001b[0m\u001b[0m\n\u001b[1;32m----> 3\u001b[1;33m \u001b[0ma\u001b[0m\u001b[1;33m,\u001b[0m \u001b[0mb\u001b[0m \u001b[1;33m=\u001b[0m \u001b[0mmap\u001b[0m\u001b[1;33m(\u001b[0m\u001b[0mint\u001b[0m\u001b[1;33m,\u001b[0m \u001b[0minput\u001b[0m\u001b[1;33m(\u001b[0m\u001b[1;33m)\u001b[0m\u001b[1;33m.\u001b[0m\u001b[0msplit\u001b[0m\u001b[1;33m(\u001b[0m\u001b[1;33m)\u001b[0m\u001b[1;33m)\u001b[0m\u001b[1;33m\u001b[0m\u001b[1;33m\u001b[0m\u001b[0m\n\u001b[0m\u001b[0;32m      4\u001b[0m \u001b[1;33m\u001b[0m\u001b[0m\n\u001b[0;32m      5\u001b[0m \u001b[1;32mif\u001b[0m \u001b[0ma\u001b[0m \u001b[1;33m>\u001b[0m \u001b[0mb\u001b[0m\u001b[1;33m:\u001b[0m\u001b[1;33m\u001b[0m\u001b[1;33m\u001b[0m\u001b[0m\n",
      "\u001b[1;31mValueError\u001b[0m: not enough values to unpack (expected 2, got 0)"
     ]
    }
   ],
   "source": [
    "# 1330 : 두 수 비교하기\n",
    "\n",
    "a, b = map(int, input().split())\n",
    "\n",
    "if a > b:\n",
    "    print('>')\n",
    "elif a < b:\n",
    "    print('<')\n",
    "else:\n",
    "    print('==')\n"
   ]
  },
  {
   "cell_type": "code",
   "execution_count": null,
   "metadata": {},
   "outputs": [],
   "source": [
    "# 1330 : 두 수 비교하기 (ver2)\n",
    "\n",
    "a, b = map(int, input().split())\n",
    "print('>' if a > b else ('<' if a < b else '=='))"
   ]
  },
  {
   "cell_type": "code",
   "execution_count": null,
   "metadata": {},
   "outputs": [],
   "source": [
    "# 9498 : 시험 성적\n",
    "\n",
    "x = int(input())\n",
    "\n",
    "if x >= 90:\n",
    "    print('A')\n",
    "elif x >= 80:\n",
    "    print('B')\n",
    "elif x >= 70:\n",
    "    print('C')\n",
    "elif x >= 60:\n",
    "    print('D')\n",
    "else:\n",
    "    print('F')\n"
   ]
  },
  {
   "cell_type": "code",
   "execution_count": null,
   "metadata": {},
   "outputs": [
    {
     "name": "stdout",
     "output_type": "stream",
     "text": [
      "1\n"
     ]
    }
   ],
   "source": [
    "# 2753 : 윤년\n",
    "\n",
    "x = int(input())\n",
    "\n",
    "if (x%4==0 and x%100!=0) or x%400==0:\n",
    "    print(1)\n",
    "\n",
    "else :\n",
    "    print(0)     \n",
    "\n",
    "# python 논리 연산자의 우선순위는 not - and - or 순서이다."
   ]
  },
  {
   "cell_type": "markdown",
   "metadata": {},
   "source": [
    "< 2753 : 윤년 (조건 정리) >\n",
    "\n",
    "윤년의 조건\n",
    "1. 4의 배수 이지만 100의 배수는 아닌 수\n",
    "2. 아묻따 400의 배수\n",
    "\n",
    "ex.\n",
    "1. 2012 -> 4의 배수, 100의 배수가 아님 : 1 \n",
    "2. 1900 -> 100의 배수, 400의 배수 아님 : 0\n",
    "3. 2000 -> 400의 배수 : 1"
   ]
  },
  {
   "cell_type": "code",
   "execution_count": null,
   "metadata": {},
   "outputs": [
    {
     "data": {
      "text/plain": [
       "1"
      ]
     },
     "execution_count": 25,
     "metadata": {},
     "output_type": "execute_result"
    }
   ],
   "source": [
    "# 2753 : 윤년 (ver2)\n",
    "\n",
    "def yoon():\n",
    "    x = int(input())\n",
    "    yes=1\n",
    "    no=0\n",
    "\n",
    "    if (x%4==0 and x%100!=0) or x%400==0:\n",
    "        return yes\n",
    "\n",
    "    else :\n",
    "        return no\n",
    "    \n",
    "yoon()  "
   ]
  },
  {
   "cell_type": "code",
   "execution_count": null,
   "metadata": {},
   "outputs": [
    {
     "data": {
      "text/plain": [
       "1"
      ]
     },
     "execution_count": 31,
     "metadata": {},
     "output_type": "execute_result"
    }
   ],
   "source": [
    "# 2753 : 윤년 (ver3)\n",
    "\n",
    "def yoon(x):\n",
    "    yes = 1\n",
    "    no = 0\n",
    "\n",
    "    if (x % 4 == 0 and x % 100 != 0) or x % 400 == 0:\n",
    "        return yes\n",
    "\n",
    "    else:\n",
    "        return no\n",
    "\n",
    "\n",
    "yoon(2000)\n",
    "\n",
    "# 언제 인풋에 대한 int 포맷팅이 필요한가?"
   ]
  },
  {
   "cell_type": "code",
   "execution_count": null,
   "metadata": {},
   "outputs": [
    {
     "name": "stdout",
     "output_type": "stream",
     "text": [
      "4\n"
     ]
    }
   ],
   "source": [
    "# 14681 : 사분면 고르기\n",
    "\n",
    "x = int(input())\n",
    "y = int(input())\n",
    "\n",
    "if x > 0 and y > 0 :\n",
    "    print(1)\n",
    "elif x < 0 and y > 0 :\n",
    "    print(2)\n",
    "elif x < 0 and y < 0 :\n",
    "    print(3)\n",
    "else:\n",
    "    print(4)           "
   ]
  },
  {
   "cell_type": "code",
   "execution_count": null,
   "metadata": {},
   "outputs": [
    {
     "name": "stdout",
     "output_type": "stream",
     "text": [
      "4\n"
     ]
    }
   ],
   "source": [
    "# 14681 : 사분면 고르기 (ver2)\n",
    "\n",
    "x = int(input())\n",
    "y = int(input())\n",
    "\n",
    "if x and y > 0 :\n",
    "    print(1)\n",
    "elif x < 0 and y > 0 :\n",
    "    print(2)\n",
    "elif x < 0 and y < 0 :\n",
    "    print(3)\n",
    "else:\n",
    "    print(4)  \n"
   ]
  },
  {
   "cell_type": "code",
   "execution_count": null,
   "metadata": {},
   "outputs": [
    {
     "name": "stdout",
     "output_type": "stream",
     "text": [
      "23 : 25\n"
     ]
    }
   ],
   "source": [
    "# 2884 : 알람 시계\n",
    "\n",
    "x, y= map(int, input().split())\n",
    "\n",
    "if x == 0  and y < 45 :\n",
    "    x = 23\n",
    "    y = abs(y+60-45)\n",
    "    print(x, y)\n",
    "elif y < 45 :\n",
    "    x = x-1\n",
    "    y = abs(y+60-45)\n",
    "    print(x, y)\n",
    "else :\n",
    "    y = y-45\n",
    "    print(x, y)\n"
   ]
  },
  {
   "cell_type": "markdown",
   "metadata": {},
   "source": [
    "< 2884 : 알람 시계 (조건 정리) >\n",
    "\n",
    "1. x = 0 and y < 45 : x = 23, y = abs(y-45)\n",
    "2. y < 45 : x = x-1, y = abs(y-45)\n",
    "3. x , y = y-45"
   ]
  },
  {
   "cell_type": "code",
   "execution_count": 1,
   "metadata": {},
   "outputs": [
    {
     "name": "stdout",
     "output_type": "stream",
     "text": [
      "2 15\n"
     ]
    }
   ],
   "source": [
    "# 2525 : 오븐 시계 -> 오답\n",
    "\n",
    "h, m= map(int, input().split())\n",
    "TIMER = int(input())\n",
    "\n",
    "if h == 23 and m+TIMER >= 60:\n",
    "    h = (h+((m+TIMER)//60))-24\n",
    "    m = (m+TIMER)%60\n",
    "    print(h, m)\n",
    "    \n",
    "elif m+TIMER >= 60: # h+timer의 몫이 24를 넘는 경우는 고려되지 않음\n",
    "    h = h+((m+TIMER)//60)\n",
    "    m = (m+TIMER)%60\n",
    "    print(h, m)\n",
    "    \n",
    "else:\n",
    "    m = m+TIMER\n",
    "    print(h, m)"
   ]
  },
  {
   "cell_type": "code",
   "execution_count": 11,
   "metadata": {},
   "outputs": [
    {
     "name": "stdout",
     "output_type": "stream",
     "text": [
      "13 40\n"
     ]
    }
   ],
   "source": [
    "# 2525 : 오븐 시계 (ver2)\n",
    "\n",
    "H, M = map(int, input().split())\n",
    "timer = int(input())\n",
    "\n",
    "H += timer // 60\n",
    "M += timer 60% \n",
    "\n",
    "if M >= 60:\n",
    "    H += 1\n",
    "    M -= 60\n",
    "if H >= 24:\n",
    "    H -= 24\n",
    "\n",
    "print(H, M)"
   ]
  },
  {
   "cell_type": "markdown",
   "metadata": {},
   "source": [
    "< 2525 : 오븐 시계 (조건 정리) >\n",
    "\n",
    "1. h = 23, m+t >= 60 : h = h+(m+t//60)-24, m = m+t%60\n",
    "2. m+t >= 60 :  h = h+(m+t//60), m = m+t%60\n",
    "3. m = m+t"
   ]
  }
 ],
 "metadata": {
  "interpreter": {
   "hash": "15563fd1b622306a2efd34f87982eb516b6370747374c1a0af7fa82521449461"
  },
  "kernelspec": {
   "display_name": "Python 3.8.8 64-bit ('base': conda)",
   "language": "python",
   "name": "python3"
  },
  "language_info": {
   "codemirror_mode": {
    "name": "ipython",
    "version": 3
   },
   "file_extension": ".py",
   "mimetype": "text/x-python",
   "name": "python",
   "nbconvert_exporter": "python",
   "pygments_lexer": "ipython3",
   "version": "3.9.7"
  },
  "orig_nbformat": 4
 },
 "nbformat": 4,
 "nbformat_minor": 2
}
