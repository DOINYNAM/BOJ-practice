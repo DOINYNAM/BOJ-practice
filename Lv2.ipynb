{
 "cells": [
  {
   "cell_type": "markdown",
   "metadata": {},
   "source": [
    "# 2 단계 : if문"
   ]
  },
  {
   "cell_type": "code",
   "execution_count": 1,
   "metadata": {},
   "outputs": [
    {
     "name": "stdout",
     "output_type": "stream",
     "text": [
      "<\n"
     ]
    }
   ],
   "source": [
    "# 1330 : 두 수 비교하기\n",
    "\n",
    "a, b = map(int, input().split())\n",
    "\n",
    "if a > b:\n",
    "    print('>')\n",
    "elif a < b:\n",
    "    print('<')\n",
    "else:\n",
    "    print('==')\n"
   ]
  },
  {
   "cell_type": "code",
   "execution_count": null,
   "metadata": {},
   "outputs": [],
   "source": [
    "# 1330 : 두 수 비교하기 (ver2)\n",
    "\n",
    "a, b = map(int, input().split())\n",
    "print('>' if a > b else ('<' if a < b else '=='))"
   ]
  },
  {
   "cell_type": "code",
   "execution_count": null,
   "metadata": {},
   "outputs": [],
   "source": [
    "# 9498 : 시험 성적\n",
    "\n",
    "x = int(input())\n",
    "\n",
    "if x >= 90:\n",
    "    print('A')\n",
    "elif x >= 80:\n",
    "    print('B')\n",
    "elif x >= 70:\n",
    "    print('C')\n",
    "elif x >= 60:\n",
    "    print('D')\n",
    "else:\n",
    "    print('F')\n"
   ]
  },
  {
   "cell_type": "code",
   "execution_count": 35,
   "metadata": {},
   "outputs": [
    {
     "name": "stdout",
     "output_type": "stream",
     "text": [
      "1\n"
     ]
    }
   ],
   "source": [
    "# 2753 : 윤년\n",
    "\n",
    "x = int(input())\n",
    "\n",
    "if (x%4==0 and x%100!=0) or x%400==0:\n",
    "    print(1)\n",
    "\n",
    "else :\n",
    "    print(0)     \n",
    "\n",
    "# python 논리 연산자의 우선순위는 not - and - or 순서이다."
   ]
  },
  {
   "cell_type": "markdown",
   "metadata": {},
   "source": [
    "< 2753 : 윤년 (조건 정리) >\n",
    "\n",
    "윤년의 조건\n",
    "1. 4의 배수 이지만 100의 배수는 아닌 수\n",
    "2. 아묻따 400의 배수\n",
    "\n",
    "ex.\n",
    "1. 2012 -> 4의 배수, 100의 배수가 아님 : 1 \n",
    "2. 1900 -> 100의 배수, 400의 배수 아님 : 0\n",
    "3. 2000 -> 400의 배수 : 1"
   ]
  },
  {
   "cell_type": "code",
   "execution_count": null,
   "metadata": {},
   "outputs": [
    {
     "data": {
      "text/plain": [
       "1"
      ]
     },
     "execution_count": 25,
     "metadata": {},
     "output_type": "execute_result"
    }
   ],
   "source": [
    "# 2753 : 윤년 (ver2)\n",
    "\n",
    "def yoon():\n",
    "    x = int(input())\n",
    "    yes=1\n",
    "    no=0\n",
    "\n",
    "    if (x%4==0 and x%100!=0) or x%400==0:\n",
    "        return yes\n",
    "\n",
    "    else :\n",
    "        return no\n",
    "    \n",
    "yoon()  "
   ]
  },
  {
   "cell_type": "code",
   "execution_count": 31,
   "metadata": {},
   "outputs": [
    {
     "data": {
      "text/plain": [
       "1"
      ]
     },
     "execution_count": 31,
     "metadata": {},
     "output_type": "execute_result"
    }
   ],
   "source": [
    "# 2753 : 윤년 (ver3)\n",
    "\n",
    "def yoon(x):\n",
    "    yes = 1\n",
    "    no = 0\n",
    "\n",
    "    if (x % 4 == 0 and x % 100 != 0) or x % 400 == 0:\n",
    "        return yes\n",
    "\n",
    "    else:\n",
    "        return no\n",
    "\n",
    "\n",
    "yoon(2000)\n",
    "\n",
    "# 언제 인풋에 대한 int 포맷팅이 필요한가?"
   ]
  }
 ],
 "metadata": {
  "interpreter": {
   "hash": "15563fd1b622306a2efd34f87982eb516b6370747374c1a0af7fa82521449461"
  },
  "kernelspec": {
   "display_name": "Python 3.8.8 64-bit ('base': conda)",
   "language": "python",
   "name": "python3"
  },
  "language_info": {
   "codemirror_mode": {
    "name": "ipython",
    "version": 3
   },
   "file_extension": ".py",
   "mimetype": "text/x-python",
   "name": "python",
   "nbconvert_exporter": "python",
   "pygments_lexer": "ipython3",
   "version": "3.8.8"
  },
  "orig_nbformat": 4
 },
 "nbformat": 4,
 "nbformat_minor": 2
}
