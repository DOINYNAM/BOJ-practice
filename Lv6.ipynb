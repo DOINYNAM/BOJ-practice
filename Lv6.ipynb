{
 "cells": [
  {
   "cell_type": "markdown",
   "metadata": {},
   "source": [
    "# 6 단계 : 문자열"
   ]
  },
  {
   "cell_type": "code",
   "execution_count": 7,
   "metadata": {},
   "outputs": [
    {
     "name": "stdout",
     "output_type": "stream",
     "text": [
      "97\n"
     ]
    }
   ],
   "source": [
    "# 11654 :아스키 코드\n",
    "# ord()\n",
    "\n",
    "print(ord(input()))"
   ]
  },
  {
   "cell_type": "code",
   "execution_count": 5,
   "metadata": {},
   "outputs": [
    {
     "name": "stdout",
     "output_type": "stream",
     "text": [
      "35\n"
     ]
    }
   ],
   "source": [
    "# 11720 : 숫자의 합\n",
    "\n",
    "n = input()\n",
    "\n",
    "print(sum(map(int,input())))"
   ]
  },
  {
   "cell_type": "code",
   "execution_count": null,
   "metadata": {},
   "outputs": [],
   "source": [
    "# 11720 : 숫자의 합 ver2\n",
    "\n",
    "n = input()\n",
    "nums = input()\n",
    "total = 0\n",
    "for i in range(n) :  # 0부터 n-1까지\n",
    "    total += int(nums[i])\n",
    "print(total)"
   ]
  },
  {
   "cell_type": "code",
   "execution_count": 30,
   "metadata": {},
   "outputs": [
    {
     "name": "stdout",
     "output_type": "stream",
     "text": [
      "[0, 1, -1, -1, -1, -1, -1, -1, -1, -1, -1, -1, 'm', 'n', 'o', 'p', 'q', 'r', 's', 't', 'u', 'v', 'w', 'x', 'y', 'z']\n"
     ]
    }
   ],
   "source": [
    "# 10809 : 알파벳 찾기\n",
    "# 문자열, 튜플, 리스트는 슬라이싱 가능\n",
    "\n",
    "import string\n",
    "\n",
    "lower = [i for i in string.ascii_lowercase]\n",
    "N = 0\n",
    "S = input()\n",
    "li = list(S)\n",
    "\n",
    "for i in range(li) :\n",
    "    if i == lower[N]:\n",
    "        lower[i] = N\n",
    "        N =+ 1\n",
    "\n",
    "    else:\n",
    "        lower[i] = -1\n",
    "        N =+ 1\n",
    "\n",
    "print(lower)\n"
   ]
  },
  {
   "cell_type": "code",
   "execution_count": null,
   "metadata": {},
   "outputs": [],
   "source": [
    "import string\n",
    "\n",
    "lower = [i for i in string.ascii_lowercase]\n",
    "N = 0\n",
    "S = input()\n",
    "li = list(S)\n",
    "\n",
    "while True:\n",
    "    if li[] == lower[0]:\n",
    "        lower[i] = i\n",
    "        N =+ 1\n",
    "\n",
    "    elif n ==26 : \n",
    "        break\n",
    "\n",
    "    else :\n",
    "        lower[i] = -1\n",
    "        N =+ 1\n",
    "\n",
    "print(lower)"
   ]
  },
  {
   "cell_type": "code",
   "execution_count": null,
   "metadata": {},
   "outputs": [],
   "source": [
    "# "
   ]
  },
  {
   "cell_type": "code",
   "execution_count": null,
   "metadata": {},
   "outputs": [],
   "source": []
  }
 ],
 "metadata": {
  "interpreter": {
   "hash": "42588fd11209419b7c81abe23e31a1d2101f60811b02170c268e57ebb57d5d9a"
  },
  "kernelspec": {
   "display_name": "Python 3.9.7 ('base')",
   "language": "python",
   "name": "python3"
  },
  "language_info": {
   "codemirror_mode": {
    "name": "ipython",
    "version": 3
   },
   "file_extension": ".py",
   "mimetype": "text/x-python",
   "name": "python",
   "nbconvert_exporter": "python",
   "pygments_lexer": "ipython3",
   "version": "3.9.7"
  },
  "orig_nbformat": 4
 },
 "nbformat": 4,
 "nbformat_minor": 2
}
