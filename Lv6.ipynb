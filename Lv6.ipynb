{
 "cells": [
  {
   "cell_type": "markdown",
   "metadata": {},
   "source": [
    "# 6 단계 : 문자열"
   ]
  },
  {
   "cell_type": "code",
   "execution_count": 7,
   "metadata": {},
   "outputs": [
    {
     "name": "stdout",
     "output_type": "stream",
     "text": [
      "97\n"
     ]
    }
   ],
   "source": [
    "# 11654 :아스키 코드\n",
    "# ord()\n",
    "\n",
    "print(ord(input()))"
   ]
  },
  {
   "cell_type": "code",
   "execution_count": 5,
   "metadata": {},
   "outputs": [
    {
     "name": "stdout",
     "output_type": "stream",
     "text": [
      "35\n"
     ]
    }
   ],
   "source": [
    "# 11720 : 숫자의 합\n",
    "\n",
    "n = input()\n",
    "\n",
    "print(sum(map(int,input())))"
   ]
  },
  {
   "cell_type": "code",
   "execution_count": null,
   "metadata": {},
   "outputs": [],
   "source": [
    "# 11720 : 숫자의 합 ver2\n",
    "\n",
    "n = input()\n",
    "nums = input()\n",
    "total = 0\n",
    "for i in range(n) :  # 0부터 n-1까지\n",
    "    total += int(nums[i])\n",
    "print(total)"
   ]
  },
  {
   "cell_type": "code",
   "execution_count": 30,
   "metadata": {},
   "outputs": [
    {
     "name": "stdout",
     "output_type": "stream",
     "text": [
      "[0, 1, -1, -1, -1, -1, -1, -1, -1, -1, -1, -1, 'm', 'n', 'o', 'p', 'q', 'r', 's', 't', 'u', 'v', 'w', 'x', 'y', 'z']\n"
     ]
    }
   ],
   "source": [
    "# 10809 : 알파벳 찾기\n",
    "# 문자열, 튜플, 리스트는 슬라이싱 가능\n",
    "\n",
    "import string\n",
    "\n",
    "lower = [i for i in string.ascii_lowercase]\n",
    "N = 0\n",
    "S = input()\n",
    "li = list(S)\n",
    "\n",
    "for i in range(li) :\n",
    "    if i == lower[N]:\n",
    "        lower[i] = N\n",
    "        N =+ 1\n",
    "\n",
    "    else:\n",
    "        lower[i] = -1\n",
    "        N =+ 1\n",
    "\n",
    "print(lower)\n"
   ]
  },
  {
   "cell_type": "code",
   "execution_count": 31,
   "metadata": {},
   "outputs": [
    {
     "name": "stdout",
     "output_type": "stream",
     "text": [
      "1 0 -1 -1 2 -1 -1 -1 -1 4 3 -1 -1 7 5 -1 -1 -1 -1 -1 -1 -1 -1 -1 -1 -1 "
     ]
    }
   ],
   "source": [
    "# 10809 : 알파벳 찾기\n",
    "# 문자열, 튜플, 리스트는 슬라이싱 가능\n",
    "# for문에도 break 있음\n",
    "# 이중 for문 원리 이해 \n",
    "\n",
    "import string\n",
    "\n",
    "lower = [i for i in string.ascii_lowercase]\n",
    "li = list(input())\n",
    "\n",
    "for i in range(len(lower)) :\n",
    "    for j in range(len(li)) :\n",
    "        if lower[i] == li[j] :\n",
    "            A = j\n",
    "            break\n",
    "        else :\n",
    "            A = -1\n",
    "    print(A, end= ' ')"
   ]
  },
  {
   "cell_type": "code",
   "execution_count": 8,
   "metadata": {},
   "outputs": [
    {
     "name": "stdout",
     "output_type": "stream",
     "text": [
      "1 0 -1 -1 2 -1 -1 -1 -1 4 3 -1 -1 7 5 -1 -1 -1 -1 -1 -1 -1 -1 -1 -1 -1 "
     ]
    }
   ],
   "source": [
    "# 10809 : 알파벳 찾기\n",
    "# find 함수 : 최초의 위치를 출력, 없으면 -1 (index는 에러 출력)\n",
    "# chr , odd 함수 : 아스키코드 변환 (문자, 위치-숫자)\n",
    "# print 출력의 기본 설정 = 줄바꿈\n",
    "\n",
    "word = input()\n",
    "alphabet = list(range(97,123))  # 아스키코드 숫자 범위\n",
    "\n",
    "for x in alphabet :\n",
    "    print(word.find(chr(x)), end=' ') "
   ]
  },
  {
   "cell_type": "code",
   "execution_count": 9,
   "metadata": {},
   "outputs": [
    {
     "name": "stdout",
     "output_type": "stream",
     "text": [
      "1 0 -1 -1 2 -1 -1 -1 -1 4 3 -1 -1 7 5 -1 -1 -1 -1 -1 -1 -1 -1 -1 -1 -1 "
     ]
    }
   ],
   "source": [
    "# 10809 : 알파벳 찾기\n",
    "\n",
    "n = list(map(str, input()))\n",
    "for i in range (97,123):\n",
    "    for j in range(0, len(n)):\n",
    "        a = -1\n",
    "        if chr(i) == n[j]:\n",
    "            a = j\n",
    "            break\n",
    "    print(a, end=' ')"
   ]
  },
  {
   "cell_type": "code",
   "execution_count": 5,
   "metadata": {},
   "outputs": [
    {
     "name": "stdout",
     "output_type": "stream",
     "text": [
      "ddooiinn\n"
     ]
    }
   ],
   "source": [
    "# 2675 : 문자열 반복\n",
    "\n",
    "t = int(input())\n",
    "for i in range(t):\n",
    "    num, s = input().split()\n",
    "    text = ''\n",
    "    for i in s:\n",
    "        text += int(num) * i\n",
    "    print(text)"
   ]
  },
  {
   "cell_type": "code",
   "execution_count": null,
   "metadata": {},
   "outputs": [],
   "source": [
    "# 1157 : 단어 공부\n",
    "\n",
    "word = input().upper() # 전체 문자 대문자 변환\n",
    "word_list = list(set(word)) # 비교 리스트 만들기\n",
    "\n",
    "cnt = []\n",
    "for i in word_list:\n",
    "  count = word.count\n",
    "  cnt.append(count(i))\n",
    "\n",
    "if cnt.count(max(cnt)) > 1:\n",
    "  print(\"?\")\n",
    "\n",
    "else:\n",
    "  print(word_list[(cnt.index(max(cnt)))])"
   ]
  },
  {
   "cell_type": "code",
   "execution_count": 1,
   "metadata": {},
   "outputs": [
    {
     "name": "stdout",
     "output_type": "stream",
     "text": [
      "3\n"
     ]
    }
   ],
   "source": [
    "# 1152 : 단어의 개수\n",
    "# split() -> 공백은 무시(제외)\n",
    "# split(' ') -> ''도 인식\n",
    "\n",
    "word= list(input().split())\n",
    "\n",
    "print(len(word))"
   ]
  },
  {
   "cell_type": "code",
   "execution_count": null,
   "metadata": {},
   "outputs": [],
   "source": [
    "# 2908 : 상수\n",
    "\n",
    "num = list(input().split())\n",
    "\n",
    "for i in range(len(num)):\n",
    "    num[i] = ''.join(reversed(num[i]))\n",
    "\n",
    "print(max(num))"
   ]
  },
  {
   "cell_type": "code",
   "execution_count": 1,
   "metadata": {},
   "outputs": [
    {
     "name": "stdout",
     "output_type": "stream",
     "text": [
      "312321\n"
     ]
    }
   ],
   "source": [
    "# 2908 : 상수 ver2\n",
    "\n",
    "a, b =input().split()\n",
    "\n",
    "def rev(x):\n",
    "    x = x[::-1]\n",
    "    return int(x)\n",
    "\n",
    "print(max([rev(a), rev(b)]))"
   ]
  },
  {
   "cell_type": "code",
   "execution_count": 5,
   "metadata": {},
   "outputs": [
    {
     "name": "stdout",
     "output_type": "stream",
     "text": [
      "36\n"
     ]
    }
   ],
   "source": [
    "# 5622 : 다이얼\n",
    "\n",
    "text = list(input())\n",
    "di = [\"ABC\", \"DEF\", \"GHI\", \"JKL\", \"MNO\", \"PQRS\", \"TUV\", \"WXYZ\"]\n",
    "output = 0\n",
    "\n",
    "for i in text :\n",
    "    for j in di :\n",
    "        if i in j :\n",
    "            output += di.index(j)*1+3           \n",
    "print(output)"
   ]
  },
  {
   "cell_type": "code",
   "execution_count": 14,
   "metadata": {},
   "outputs": [
    {
     "name": "stdout",
     "output_type": "stream",
     "text": [
      "8\n"
     ]
    }
   ],
   "source": [
    "# 2941 : 크로아티아 알파벳\n",
    "\n",
    "word = input()\n",
    "af = [\"c=\", \"c-\", \"dz=\", \"d-\", \"lj\", \"nj\", \"s=\", \"z=\"]\n",
    "output = 0\n",
    "\n",
    "for i in af :\n",
    "    if i in word :\n",
    "        output += 1\n",
    "        word = word.strip(i)\n",
    "        pass\n",
    "\n",
    "print(len(word)+output)\n"
   ]
  },
  {
   "cell_type": "code",
   "execution_count": null,
   "metadata": {},
   "outputs": [],
   "source": [
    "# 2941 : 크로아티아 알파벳\n",
    "\n",
    "word = input()\n",
    "cro = [\"c=\", \"c-\", \"dz=\", \"d-\", \"lj\", \"nj\", \"s=\", \"z=\"]\n",
    "\n",
    "for i in cro :\n",
    "    word = word.replace(i, '@')\n",
    "print(len(word))"
   ]
  },
  {
   "cell_type": "code",
   "execution_count": 7,
   "metadata": {},
   "outputs": [
    {
     "name": "stdout",
     "output_type": "stream",
     "text": [
      "3\n"
     ]
    }
   ],
   "source": [
    "# 1316 : 그룹 단어 체커\n",
    "\n",
    "N = int(input())\n",
    "count = N\n",
    "\n",
    "for i in range(N):\n",
    "    word = input()\n",
    "    for j in range(len(word)-1) :\n",
    "        if word[j] == word[j+1]:\n",
    "            pass\n",
    "        elif word[j] != word[j+1] and word[j] in word[j+1:] :\n",
    "            count -= 1\n",
    "            break\n",
    "\n",
    "print(count)\n"
   ]
  }
 ],
 "metadata": {
  "interpreter": {
   "hash": "0517020e38bb3c4d1f31f8e97d469d22ea5a42d2f2322451ff64cd3bc2a72547"
  },
  "kernelspec": {
   "display_name": "Python 3.8.13 ('boj')",
   "language": "python",
   "name": "python3"
  },
  "language_info": {
   "codemirror_mode": {
    "name": "ipython",
    "version": 3
   },
   "file_extension": ".py",
   "mimetype": "text/x-python",
   "name": "python",
   "nbconvert_exporter": "python",
   "pygments_lexer": "ipython3",
   "version": "3.8.13"
  },
  "orig_nbformat": 4
 },
 "nbformat": 4,
 "nbformat_minor": 2
}
