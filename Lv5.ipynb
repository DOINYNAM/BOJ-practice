{
 "cells": [
  {
   "cell_type": "markdown",
   "metadata": {},
   "source": [
    "# 5 단계 : 1차원 배열"
   ]
  },
  {
   "cell_type": "code",
   "execution_count": 1,
   "metadata": {},
   "outputs": [
    {
     "name": "stdout",
     "output_type": "stream",
     "text": [
      "1 5\n"
     ]
    }
   ],
   "source": [
    "# 10818 : 최소, 최대\n",
    "# 함수명과 동일한 변수명 사용하지 않기\n",
    "\n",
    "n = int(input())\n",
    "n_list = list(map(int, input().split()))\n",
    "\n",
    "print(min(n_list), max(n_list))"
   ]
  },
  {
   "cell_type": "code",
   "execution_count": 2,
   "metadata": {},
   "outputs": [
    {
     "name": "stdout",
     "output_type": "stream",
     "text": [
      "1 5\n"
     ]
    }
   ],
   "source": [
    "# 10818 : 최소, 최대 ver2\n",
    "\n",
    "n = int(input())\n",
    "n_list = list(map(int, input().split()))\n",
    "n_list.sort()\n",
    "\n",
    "print(n_list[0], n_list[-1])"
   ]
  },
  {
   "cell_type": "code",
   "execution_count": 6,
   "metadata": {},
   "outputs": [
    {
     "name": "stdout",
     "output_type": "stream",
     "text": [
      "9\n",
      "9\n"
     ]
    }
   ],
   "source": [
    "# 2562 : 최댓값\n",
    "\n",
    "n = 9\n",
    "n_list = []\n",
    "\n",
    "for i in range(n) :\n",
    "    x = int(input())\n",
    "    n_list.append(x)\n",
    "\n",
    "print(max(n_list), n_list.index(max(n_list))+1, sep='\\n')"
   ]
  },
  {
   "cell_type": "code",
   "execution_count": 7,
   "metadata": {},
   "outputs": [
    {
     "name": "stdout",
     "output_type": "stream",
     "text": [
      "9 9\n"
     ]
    }
   ],
   "source": [
    "# 2562 : 최댓값 ver2\n",
    "\n",
    "l=[int(input())for i in range(9)]\n",
    "print(max(l),l.index(max(l))+1, sep='\\n')"
   ]
  },
  {
   "cell_type": "code",
   "execution_count": 18,
   "metadata": {},
   "outputs": [
    {
     "name": "stdout",
     "output_type": "stream",
     "text": [
      "2\n",
      "0\n",
      "1\n",
      "0\n",
      "1\n",
      "0\n",
      "0\n",
      "0\n",
      "0\n",
      "0\n"
     ]
    }
   ],
   "source": [
    "# 2577 : 숫자의 개수\n",
    "\n",
    "A = int(input())\n",
    "B = int(input())\n",
    "C = int(input())\n",
    "\n",
    "X = A * B * C\n",
    "NUM = list(map(int, str(X))) # 리스트 함수가 INT 안됨 / 맵을 사용하면, \"123\" -> 1,2,3\n",
    "\n",
    "for i in range(10) :\n",
    "    print(NUM.count(i))\n"
   ]
  },
  {
   "cell_type": "code",
   "execution_count": null,
   "metadata": {},
   "outputs": [],
   "source": [
    "# 2577 : 숫자의 개수 ver2\n",
    "\n",
    "A = int(input())\n",
    "B = int(input())\n",
    "C = int(input())\n",
    "\n",
    "NUM = list(str(A * B * C))\n",
    "\n",
    "for i in range(10):\n",
    "    print(NUM.count(str(i)))"
   ]
  },
  {
   "cell_type": "code",
   "execution_count": 12,
   "metadata": {},
   "outputs": [
    {
     "name": "stdout",
     "output_type": "stream",
     "text": [
      "10\n"
     ]
    }
   ],
   "source": [
    "# 3052 : 나머지\n",
    "\n",
    "li = []\n",
    "\n",
    "for i in range(10) :\n",
    "    x = int(input())\n",
    "    li.append(x % 42)\n",
    "\n",
    "li = set(li)\n",
    "\n",
    "print(len(li))\n"
   ]
  },
  {
   "cell_type": "code",
   "execution_count": 7,
   "metadata": {},
   "outputs": [
    {
     "name": "stdout",
     "output_type": "stream",
     "text": [
      "75.0\n"
     ]
    }
   ],
   "source": [
    "# 1546 : 평균\n",
    "\n",
    "n = int(input())\n",
    "li = list(map(int, input().split()))\n",
    "M = max(li)\n",
    "new_li= []\n",
    "\n",
    "for i in li :\n",
    "    new_li.append(i/M*100)\n",
    "\n",
    "print(sum(new_li)/n)"
   ]
  },
  {
   "cell_type": "code",
   "execution_count": 8,
   "metadata": {},
   "outputs": [
    {
     "name": "stdout",
     "output_type": "stream",
     "text": [
      "66.66666666666667\n"
     ]
    }
   ],
   "source": [
    "# 1546 : 평균 ver2\n",
    "\n",
    "n = int(input())\n",
    "li = list(map(int, input().split()))\n",
    "M = max(li)\n",
    "\n",
    "for i in range(n) :\n",
    "    li[i] = li[i]/M*100\n",
    "\n",
    "print(sum(li)/n)"
   ]
  },
  {
   "cell_type": "code",
   "execution_count": 3,
   "metadata": {},
   "outputs": [
    {
     "name": "stdout",
     "output_type": "stream",
     "text": [
      "10\n",
      "36\n",
      "5\n"
     ]
    }
   ],
   "source": [
    "# 8958 : OX퀴즈\n",
    "\n",
    "n = int(input())\n",
    "\n",
    "for i in range(n) :    \n",
    "    li = list(input())\n",
    "    score = 0\n",
    "    bonus = 1\n",
    "    for i in li :\n",
    "        if i == \"O\" :\n",
    "            score += bonus\n",
    "            bonus += 1\n",
    "        else :\n",
    "            bonus = 1\n",
    "    print(score)"
   ]
  }
 ],
 "metadata": {
  "interpreter": {
   "hash": "42588fd11209419b7c81abe23e31a1d2101f60811b02170c268e57ebb57d5d9a"
  },
  "kernelspec": {
   "display_name": "Python 3.9.7 ('base')",
   "language": "python",
   "name": "python3"
  },
  "language_info": {
   "codemirror_mode": {
    "name": "ipython",
    "version": 3
   },
   "file_extension": ".py",
   "mimetype": "text/x-python",
   "name": "python",
   "nbconvert_exporter": "python",
   "pygments_lexer": "ipython3",
   "version": "3.9.7"
  },
  "orig_nbformat": 4
 },
 "nbformat": 4,
 "nbformat_minor": 2
}
